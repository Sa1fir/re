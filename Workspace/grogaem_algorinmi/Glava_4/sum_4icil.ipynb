{
 "cells": [
  {
   "cell_type": "code",
   "execution_count": 4,
   "metadata": {},
   "outputs": [],
   "source": [
    "def sum(arr):\n",
    "    total = 0 \n",
    "    for х in arr: \n",
    "        total += х \n",
    "    return total \n"
   ]
  },
  {
   "cell_type": "code",
   "execution_count": 5,
   "metadata": {},
   "outputs": [
    {
     "name": "stdout",
     "output_type": "stream",
     "text": [
      "<class 'str'> [1, 2, 3, 4]\n"
     ]
    }
   ],
   "source": [
    "sum=[1,2,3,4]\n",
    "print(str,sum)"
   ]
  }
 ],
 "metadata": {
  "kernelspec": {
   "display_name": "SM_env",
   "language": "python",
   "name": "python3"
  },
  "language_info": {
   "codemirror_mode": {
    "name": "ipython",
    "version": 3
   },
   "file_extension": ".py",
   "mimetype": "text/x-python",
   "name": "python",
   "nbconvert_exporter": "python",
   "pygments_lexer": "ipython3",
   "version": "3.10.13"
  }
 },
 "nbformat": 4,
 "nbformat_minor": 2
}
