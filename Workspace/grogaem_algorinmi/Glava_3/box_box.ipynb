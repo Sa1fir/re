{
 "cells": [
  {
   "cell_type": "code",
   "execution_count": 18,
   "metadata": {},
   "outputs": [],
   "source": [
    "def look_for_key(main_box): \n",
    "    pile = main_box.make_a_pile_to_look_through() \n",
    "    while pile is not empty: \n",
    "        Ьох = pile . grab_a_box()      #while \n",
    "        for item in Ьох: \n",
    "            if item.is_a_box(): \n",
    "                pile.append(item) \n",
    "            elif item.is_a_key(): \n",
    "                print (\"found the key!\")"
   ]
  },
  {
   "cell_type": "code",
   "execution_count": 19,
   "metadata": {},
   "outputs": [],
   "source": [
    "def look_for_key(bох): \n",
    "  for item in Ьох: \n",
    "    if item.is_a_box(): \n",
    "      look_for_key(item)              #rekyrsia\n",
    "    elif item.is_a_key(): \n",
    "      print (\"found the key!\")"
   ]
  }
 ],
 "metadata": {
  "kernelspec": {
   "display_name": "SM_env",
   "language": "python",
   "name": "python3"
  },
  "language_info": {
   "codemirror_mode": {
    "name": "ipython",
    "version": 3
   },
   "file_extension": ".py",
   "mimetype": "text/x-python",
   "name": "python",
   "nbconvert_exporter": "python",
   "pygments_lexer": "ipython3",
   "version": "3.10.13"
  }
 },
 "nbformat": 4,
 "nbformat_minor": 2
}
