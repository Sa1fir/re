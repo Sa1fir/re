{
 "cells": [
  {
   "cell_type": "code",
   "execution_count": null,
   "metadata": {},
   "outputs": [],
   "source": [
    "'''\n",
    "\n",
    "Последовательность действий: \n",
    "1. Считать файл competitos.json и перевести его в формал json\n",
    "2. Считать файл results_run.txt\n",
    "3. \n",
    "\n",
    "\n",
    "\n",
    "какие были планы:\n",
    "    1: окрывать файл results_RUN.txt через переменную и функцию open\n",
    "    2: с помощью groupby отобрать нужные данные\n",
    "    3: вычислить время для каждого номера с помощью модуля datatime \n",
    "    5: с помощью join связать и имя номера и его результат\n",
    "'''"
   ]
  },
  {
   "cell_type": "code",
   "execution_count": null,
   "metadata": {},
   "outputs": [],
   "source": [
    "import json\n",
    "\n",
    "\n",
    "COMPETITORS_FILE_PATH = \"./input_data/competitors.json\"\n",
    "RUN_RESULT_FILE_PATH = \"./input_data/results_run.txt\"\n",
    "\n",
    "def get_competitors(path):\n",
    "    with open(path, 'r') as fp:\n",
    "        ...\n",
    "        # читайешь файл\n",
    "        # переводишь файлв в json функцией json.load или json.dumb (не помню точно)\n",
    "        # возвращаешь через return\n",
    "        return ...\n",
    "\n",
    "def get_run_results(path):\n",
    "    arr = []\n",
    "    with open(path, 'r') as fp:\n",
    "         ...\n",
    "         # читаешь файл построчно\n",
    "         for line in fp.readlines(): \n",
    "             ...\n",
    "            # разбиваешь cтроку за подстроки через запятую string.split(',')\n",
    "            # получаешь вместо каждой строчки массив из трёх значений: number, status, time\n",
    "            # делаешь новую запись в массив arr\n",
    "            # tmp = {\"number\": number, \"status\": status, \"time\": time}\n",
    "            # arr = arr.append(tmp)\n",
    "    result = {}\n",
    "    # группируешь элементы массива arr \n",
    "    # ищешь разницу (duration) во времени для каждой группы \n",
    "    # добавляешь в словарь result[number] = duration\n",
    "    # \n",
    "    return result  \n",
    "\n",
    "\n",
    "\n",
    "    \n",
    "\n",
    "\n",
    "competitors_json = get_competitors(COMPETITORS_FILE_PATH)\n",
    "run_resutls_json = get_run_results(RUN_RESULT_FILE_PATH)\n",
    "\n",
    "result = competitors_json.join(run_resutls_json)\n",
    "result.sort(\"duation\")\n",
    "\n",
    "result.head(4)"
   ]
  }
 ],
 "metadata": {
  "language_info": {
   "name": "python"
  },
  "orig_nbformat": 4
 },
 "nbformat": 4,
 "nbformat_minor": 2
}
