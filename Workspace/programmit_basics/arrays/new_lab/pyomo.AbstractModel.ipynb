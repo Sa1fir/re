{
 "cells": [
  {
   "cell_type": "code",
   "execution_count": 13,
   "metadata": {},
   "outputs": [],
   "source": [
    "import pyomo.environ as pyo\n",
    "\n",
    "model = pyo.AbstractModel()\n",
    "\n",
    "model.m = pyo.Param(within=pyo.NonNegativeIntegers)\n",
    "model.n = pyo.Param(within=pyo.NonNegativeIntegers)\n",
    "\n",
    "model.I = pyo.RangeSet(1, model.m)\n",
    "model.J = pyo.RangeSet(1, model.n)\n",
    "\n",
    "model.a = pyo.Param(model.I, model.J)\n",
    "model.b = pyo.Param(model.I)\n",
    "model.c = pyo.Param(model.J)\n",
    "\n",
    "# объявление переменой, которая будет индексироваться на основе последовательности J \n",
    "model.x = pyo.Var(model.J, domain=pyo.NonNegativeReals)\n",
    "\n",
    "# Определение целевой функции оптимизации\n",
    "def obj_expression(m):\n",
    "    return pyo.summation(m.c, m.x)\n",
    "\n",
    "model.OBJ = pyo.Objective(rule=obj_expression)\n",
    "\n",
    "def ax_constraint_rule(m, i):\n",
    "    # функция, определяющая ограничение для I\n",
    "    return sum(m.a[i,j] * m.x[j] for j in m.J) >= m.b[i]\n",
    "    \n",
    " # определение ограничения модели\n",
    "model.AxbConstraint = pyo.Constraint(model.I, rule=ax_constraint_rule)"
   ]
  },
  {
   "cell_type": "code",
   "execution_count": 14,
   "metadata": {},
   "outputs": [
    {
     "ename": "NameError",
     "evalue": "name 'pyomo' is not defined",
     "output_type": "error",
     "traceback": [
      "\u001b[1;31m---------------------------------------------------------------------------\u001b[0m",
      "\u001b[1;31mNameError\u001b[0m                                 Traceback (most recent call last)",
      "\u001b[1;32mc:\\Users\\rebin\\Documents\\Workspace\\programmit_basics\\arrays\\new_lab\\pyomo.AbstractModel.ipynb Ячейка 2\u001b[0m line \u001b[0;36m1\n\u001b[1;32m----> <a href='vscode-notebook-cell:/c%3A/Users/rebin/Documents/Workspace/programmit_basics/arrays/new_lab/pyomo.AbstractModel.ipynb#W2sZmlsZQ%3D%3D?line=0'>1</a>\u001b[0m data \u001b[39m=\u001b[39m pyomo\u001b[39m.\u001b[39mDataPortal()\n\u001b[0;32m      <a href='vscode-notebook-cell:/c%3A/Users/rebin/Documents/Workspace/programmit_basics/arrays/new_lab/pyomo.AbstractModel.ipynb#W2sZmlsZQ%3D%3D?line=1'>2</a>\u001b[0m data\u001b[39m.\u001b[39mload(filename\u001b[39m=\u001b[39mdata_path, model\u001b[39m=\u001b[39mabstract_model)\n\u001b[0;32m      <a href='vscode-notebook-cell:/c%3A/Users/rebin/Documents/Workspace/programmit_basics/arrays/new_lab/pyomo.AbstractModel.ipynb#W2sZmlsZQ%3D%3D?line=2'>3</a>\u001b[0m model \u001b[39m=\u001b[39m abstract_model\u001b[39m.\u001b[39mcreate_instance(data)\n",
      "\u001b[1;31mNameError\u001b[0m: name 'pyomo' is not defined"
     ]
    }
   ],
   "source": [
    "data = pyomo.DataPortal()\n",
    "data.load(filename=data_path, model=abstract_model)\n",
    "model = abstract_model.create_instance(data)"
   ]
  }
 ],
 "metadata": {
  "kernelspec": {
   "display_name": "SM_env",
   "language": "python",
   "name": "python3"
  },
  "language_info": {
   "codemirror_mode": {
    "name": "ipython",
    "version": 3
   },
   "file_extension": ".py",
   "mimetype": "text/x-python",
   "name": "python",
   "nbconvert_exporter": "python",
   "pygments_lexer": "ipython3",
   "version": "3.10.13"
  }
 },
 "nbformat": 4,
 "nbformat_minor": 2
}
