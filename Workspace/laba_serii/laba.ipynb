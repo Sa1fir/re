{
 "cells": [
  {
   "cell_type": "code",
   "execution_count": 1,
   "metadata": {},
   "outputs": [
    {
     "data": {
      "text/plain": [
       "'\\nфунция:\\ny=1-(2x^3)/(1-x^2)        (3.5:+bes)\\ny=(cos(2x-1))^(1/2)       [0:3.5]\\ny=e^(-cos(2x))            (-bes:0)\\nИнтервал:[-0.5:4.5]\\nШаг: 0.25\\n'"
      ]
     },
     "execution_count": 1,
     "metadata": {},
     "output_type": "execute_result"
    }
   ],
   "source": [
    "'''\n",
    "фунция:\n",
    "y=1-(2x^3)/(1-x^2)        (3.5:+bes)\n",
    "y=(cos(2x-1))^(1/2)       [0:3.5]\n",
    "y=e^(-cos(2x))            (-bes:0)\n",
    "Интервал:[-0.5:4.5]\n",
    "Шаг: 0.25\n",
    "'''"
   ]
  },
  {
   "cell_type": "code",
   "execution_count": 2,
   "metadata": {},
   "outputs": [],
   "source": [
    "from tkinter import *\n",
    "from tkinter import ttk\n",
    " \n",
    "root = Tk()\n",
    "root.title(\"METANIT.COM\")\n",
    "root.geometry(\"250x200\") \n",
    " \n",
    "# определяем данные для отображения\n",
    "people = [(\"Tom\", 38, \"tom@email.com\"), (\"Bob\", 42, \"bob@email.com\"), (\"Sam\", 28, \"sam@email.com\")]\n",
    " \n",
    "# определяем столбцы\n",
    "columns = (\"name\", \"age\", \"email\")\n",
    " \n",
    "tree = ttk.Treeview(columns=columns, show=\"headings\")\n",
    "tree.pack(fill=BOTH, expand=1)\n",
    " \n",
    "# определяем заголовки с выпавниваем по левому краю\n",
    "tree.heading(\"name\", text=\"Имя\", anchor=W)\n",
    "tree.heading(\"age\", text=\"Возраст\", anchor=W)\n",
    "tree.heading(\"email\", text=\"Email\", anchor=W)\n",
    " \n",
    "# настраиваем столбцы\n",
    "tree.column(\"#1\", stretch=NO, width=70)\n",
    "tree.column(\"#2\", stretch=NO, width=60)\n",
    "tree.column(\"#3\", stretch=NO, width=100)\n",
    " \n",
    "# добавляем данные\n",
    "for person in people:\n",
    "    tree.insert(\"\", END, values=person)\n",
    " \n",
    "root.mainloop()"
   ]
  }
 ],
 "metadata": {
  "kernelspec": {
   "display_name": "SM_env",
   "language": "python",
   "name": "python3"
  },
  "language_info": {
   "codemirror_mode": {
    "name": "ipython",
    "version": 3
   },
   "file_extension": ".py",
   "mimetype": "text/x-python",
   "name": "python",
   "nbconvert_exporter": "python",
   "pygments_lexer": "ipython3",
   "version": "3.10.13"
  }
 },
 "nbformat": 4,
 "nbformat_minor": 2
}
