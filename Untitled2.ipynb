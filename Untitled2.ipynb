{
  "nbformat": 4,
  "nbformat_minor": 0,
  "metadata": {
    "colab": {
      "provenance": [],
      "authorship_tag": "ABX9TyNu+ofQkssMYI53AJFleAZN",
      "include_colab_link": true
    },
    "kernelspec": {
      "name": "python3",
      "display_name": "Python 3"
    },
    "language_info": {
      "name": "python"
    }
  },
  "cells": [
    {
      "cell_type": "markdown",
      "metadata": {
        "id": "view-in-github",
        "colab_type": "text"
      },
      "source": [
        "<a href=\"https://colab.research.google.com/github/Sa1fir/re/blob/main/Untitled2.ipynb\" target=\"_parent\"><img src=\"https://colab.research.google.com/assets/colab-badge.svg\" alt=\"Open In Colab\"/></a>"
      ]
    },
    {
      "cell_type": "code",
      "source": [
        "!pip install python-telegram-bot\n",
        "!pip install sqlite3\n"
      ],
      "metadata": {
        "colab": {
          "base_uri": "https://localhost:8080/"
        },
        "id": "fxTUOFpwn1Da",
        "outputId": "5cebb47d-4a60-49d1-ecee-814bcbb3758e"
      },
      "execution_count": 5,
      "outputs": [
        {
          "output_type": "stream",
          "name": "stdout",
          "text": [
            "Collecting python-telegram-bot\n",
            "  Using cached python_telegram_bot-21.7-py3-none-any.whl.metadata (17 kB)\n",
            "Requirement already satisfied: httpx~=0.27 in /usr/local/lib/python3.10/dist-packages (from python-telegram-bot) (0.27.2)\n",
            "Requirement already satisfied: anyio in /usr/local/lib/python3.10/dist-packages (from httpx~=0.27->python-telegram-bot) (3.7.1)\n",
            "Requirement already satisfied: certifi in /usr/local/lib/python3.10/dist-packages (from httpx~=0.27->python-telegram-bot) (2024.8.30)\n",
            "Requirement already satisfied: httpcore==1.* in /usr/local/lib/python3.10/dist-packages (from httpx~=0.27->python-telegram-bot) (1.0.7)\n",
            "Requirement already satisfied: idna in /usr/local/lib/python3.10/dist-packages (from httpx~=0.27->python-telegram-bot) (3.10)\n",
            "Requirement already satisfied: sniffio in /usr/local/lib/python3.10/dist-packages (from httpx~=0.27->python-telegram-bot) (1.3.1)\n",
            "Requirement already satisfied: h11<0.15,>=0.13 in /usr/local/lib/python3.10/dist-packages (from httpcore==1.*->httpx~=0.27->python-telegram-bot) (0.14.0)\n",
            "Requirement already satisfied: exceptiongroup in /usr/local/lib/python3.10/dist-packages (from anyio->httpx~=0.27->python-telegram-bot) (1.2.2)\n",
            "Downloading python_telegram_bot-21.7-py3-none-any.whl (654 kB)\n",
            "\u001b[?25l   \u001b[90m━━━━━━━━━━━━━━━━━━━━━━━━━━━━━━━━━━━━━━━━\u001b[0m \u001b[32m0.0/654.9 kB\u001b[0m \u001b[31m?\u001b[0m eta \u001b[36m-:--:--\u001b[0m\r\u001b[2K   \u001b[90m━━━━━━━━━━━━━━━━━━━━━━━━━━━━━━━━━━━━━━━━\u001b[0m \u001b[32m654.9/654.9 kB\u001b[0m \u001b[31m26.4 MB/s\u001b[0m eta \u001b[36m0:00:00\u001b[0m\n",
            "\u001b[?25hInstalling collected packages: python-telegram-bot\n",
            "Successfully installed python-telegram-bot-21.7\n",
            "\u001b[31mERROR: Could not find a version that satisfies the requirement sqlite3 (from versions: none)\u001b[0m\u001b[31m\n",
            "\u001b[0m\u001b[31mERROR: No matching distribution found for sqlite3\u001b[0m\u001b[31m\n",
            "\u001b[0m"
          ]
        }
      ]
    },
    {
      "cell_type": "code",
      "source": [
        "import logging\n",
        "import requests\n",
        "from telegram import Update\n",
        "from telegram.ext import Updater, CommandHandler, CallbackContext\n",
        "\n",
        "# Настройка логирования\n",
        "logging.basicConfig(format='%(asctime)s - %(name)s - %(levelname)s - %(message)s', level=logging.INFO)\n",
        "logger = logging.getLogger(__name__)\n",
        "\n",
        "# URL для API Gizmo Manager (поменяйте на правильный)\n",
        "GIZMO_API_URL = \"https://api.gizmomanager.com/v1/users\"\n",
        "API_KEY = \"YOUR_GIZMO_API_KEY\"  # Ваш ключ API для Gizmo Manager\n",
        "\n",
        "# Функция для добавления пользователя в Gizmo Manager через API\n",
        "def add_user_to_gizmo(user_id, username, first_name, last_name):\n",
        "    headers = {\n",
        "        \"Authorization\": f\"Bearer {API_KEY}\",\n",
        "        \"Content-Type\": \"application/json\"\n",
        "    }\n",
        "\n",
        "    payload = {\n",
        "        \"user_id\": user_id,\n",
        "        \"username\": username,\n",
        "        \"first_name\": first_name,\n",
        "        \"last_name\": last_name\n",
        "    }\n",
        "\n",
        "    try:\n",
        "        response = requests.post(GIZMO_API_URL, json=payload, headers=headers)\n",
        "        if response.status_code == 201:\n",
        "            return True, \"Пользователь успешно добавлен в Gizmo Manager.\"\n",
        "        else:\n",
        "            return False, f\"Ошибка добавления пользователя: {response.text}\"\n",
        "    except requests.exceptions.RequestException as e:\n",
        "        return False, f\"Ошибка при подключении к API Gizmo Manager: {str(e)}\"\n",
        "\n",
        "# Обработчик команды /start\n",
        "def start(update: Update, context: CallbackContext):\n",
        "    user = update.message.from_user\n",
        "    user_id = user.id\n",
        "    username = user.username\n",
        "    first_name = user.first_name\n",
        "    last_name = user.last_name\n",
        "\n",
        "    # Добавляем пользователя в Gizmo Manager через API\n",
        "    success, message = add_user_to_gizmo(user_id, username, first_name, last_name)\n",
        "\n",
        "    # Отправляем пользователю сообщение\n",
        "    update.message.reply_text(message)\n",
        "\n",
        "# Основная функция\n",
        "def main():\n",
        "    # Токен вашего бота, полученный от @BotFather\n",
        "    token = '7715963367:AAEpkA1dsPYqTZAAJmI04qoEdja67vimriQ'\n",
        "\n",
        "    # Создание и настройка бота\n",
        "    updater = Updater(token, use_context=True)\n",
        "    dp = updater.dispatcher\n",
        "\n",
        "    # Регистрация обработчика команды /start\n",
        "    dp.add_handler(CommandHandler(\"start\", start))\n",
        "\n",
        "    # Запуск бота\n",
        "    updater.start_polling()\n",
        "    updater.idle()\n",
        "\n",
        "if __name__ == '__main__':\n",
        "    main()\n",
        "'''нахер это нужно?\n",
        "Я понял что это подобие безопасности, но насколько на эффективна? имеет ли вообще смысл это добавлять?'''"
      ],
      "metadata": {
        "colab": {
          "base_uri": "https://localhost:8080/",
          "height": 297
        },
        "id": "O0XF1PL2mvUX",
        "outputId": "5d229d5a-883c-4f74-ceb5-7c64cfea97a9"
      },
      "execution_count": 8,
      "outputs": [
        {
          "output_type": "error",
          "ename": "TypeError",
          "evalue": "Updater.__init__() got an unexpected keyword argument 'use_context'",
          "traceback": [
            "\u001b[0;31m---------------------------------------------------------------------------\u001b[0m",
            "\u001b[0;31mTypeError\u001b[0m                                 Traceback (most recent call last)",
            "\u001b[0;32m<ipython-input-8-12cac81e668c>\u001b[0m in \u001b[0;36m<cell line: 67>\u001b[0;34m()\u001b[0m\n\u001b[1;32m     66\u001b[0m \u001b[0;34m\u001b[0m\u001b[0m\n\u001b[1;32m     67\u001b[0m \u001b[0;32mif\u001b[0m \u001b[0m__name__\u001b[0m \u001b[0;34m==\u001b[0m \u001b[0;34m'__main__'\u001b[0m\u001b[0;34m:\u001b[0m\u001b[0;34m\u001b[0m\u001b[0;34m\u001b[0m\u001b[0m\n\u001b[0;32m---> 68\u001b[0;31m     \u001b[0mmain\u001b[0m\u001b[0;34m(\u001b[0m\u001b[0;34m)\u001b[0m\u001b[0;34m\u001b[0m\u001b[0;34m\u001b[0m\u001b[0m\n\u001b[0m",
            "\u001b[0;32m<ipython-input-8-12cac81e668c>\u001b[0m in \u001b[0;36mmain\u001b[0;34m()\u001b[0m\n\u001b[1;32m     55\u001b[0m \u001b[0;34m\u001b[0m\u001b[0m\n\u001b[1;32m     56\u001b[0m     \u001b[0;31m# Создание и настройка бота\u001b[0m\u001b[0;34m\u001b[0m\u001b[0;34m\u001b[0m\u001b[0m\n\u001b[0;32m---> 57\u001b[0;31m     \u001b[0mupdater\u001b[0m \u001b[0;34m=\u001b[0m \u001b[0mUpdater\u001b[0m\u001b[0;34m(\u001b[0m\u001b[0mtoken\u001b[0m\u001b[0;34m,\u001b[0m \u001b[0muse_context\u001b[0m\u001b[0;34m=\u001b[0m\u001b[0;32mTrue\u001b[0m\u001b[0;34m)\u001b[0m\u001b[0;34m\u001b[0m\u001b[0;34m\u001b[0m\u001b[0m\n\u001b[0m\u001b[1;32m     58\u001b[0m     \u001b[0mdp\u001b[0m \u001b[0;34m=\u001b[0m \u001b[0mupdater\u001b[0m\u001b[0;34m.\u001b[0m\u001b[0mdispatcher\u001b[0m\u001b[0;34m\u001b[0m\u001b[0;34m\u001b[0m\u001b[0m\n\u001b[1;32m     59\u001b[0m \u001b[0;34m\u001b[0m\u001b[0m\n",
            "\u001b[0;31mTypeError\u001b[0m: Updater.__init__() got an unexpected keyword argument 'use_context'"
          ]
        }
      ]
    },
    {
      "cell_type": "markdown",
      "source": [
        "# Новый раздел"
      ],
      "metadata": {
        "id": "CuU-rue9lNcU"
      }
    }
  ]
}